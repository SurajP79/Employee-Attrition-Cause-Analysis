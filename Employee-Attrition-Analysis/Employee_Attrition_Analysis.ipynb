{
  "nbformat": 4,
  "nbformat_minor": 0,
  "metadata": {
    "colab": {
      "provenance": []
    },
    "kernelspec": {
      "name": "python3",
      "display_name": "Python 3"
    },
    "language_info": {
      "name": "python"
    }
  },
  "cells": [
    {
      "cell_type": "code",
      "execution_count": 34,
      "metadata": {
        "id": "wx6Ge-YAGSJt"
      },
      "outputs": [],
      "source": [
        "import pandas as pd\n",
        "import numpy as np\n",
        "import matplotlib.pyplot as plt\n",
        "import seaborn as sns"
      ]
    },
    {
      "cell_type": "code",
      "source": [
        "df = pd.read_csv('Vish.csv')"
      ],
      "metadata": {
        "id": "03YngnC0Gaqa"
      },
      "execution_count": 2,
      "outputs": []
    },
    {
      "cell_type": "code",
      "source": [
        "df.head()"
      ],
      "metadata": {
        "colab": {
          "base_uri": "https://localhost:8080/",
          "height": 206
        },
        "id": "dHEW4zuxGl0q",
        "outputId": "c7c45056-8efa-4b30-f537-280a61758667"
      },
      "execution_count": 4,
      "outputs": [
        {
          "output_type": "execute_result",
          "data": {
            "text/plain": [
              "   Employee ID Departments   Promoted  Review  Projects  Salary  Tenure  \\\n",
              "0     30018087        sales         0    0.53         2     low       3   \n",
              "1     30018088        sales         0    0.86         5  medium       6   \n",
              "2     30018089        sales         0    0.88         7  medium       4   \n",
              "3     30018090        sales         0    0.87         5     low       5   \n",
              "4     30018091        sales         0    0.52         2     low       3   \n",
              "\n",
              "   Satisfaction  avg_hrs_month  left  \n",
              "0          0.38            157     1  \n",
              "1          0.80            262     1  \n",
              "2          0.11            272     1  \n",
              "3          0.72            223     1  \n",
              "4          0.37            159     1  "
            ],
            "text/html": [
              "\n",
              "  <div id=\"df-cb87e4f1-4cda-4cce-94b1-a93e734cb258\" class=\"colab-df-container\">\n",
              "    <div>\n",
              "<style scoped>\n",
              "    .dataframe tbody tr th:only-of-type {\n",
              "        vertical-align: middle;\n",
              "    }\n",
              "\n",
              "    .dataframe tbody tr th {\n",
              "        vertical-align: top;\n",
              "    }\n",
              "\n",
              "    .dataframe thead th {\n",
              "        text-align: right;\n",
              "    }\n",
              "</style>\n",
              "<table border=\"1\" class=\"dataframe\">\n",
              "  <thead>\n",
              "    <tr style=\"text-align: right;\">\n",
              "      <th></th>\n",
              "      <th>Employee ID</th>\n",
              "      <th>Departments</th>\n",
              "      <th>Promoted</th>\n",
              "      <th>Review</th>\n",
              "      <th>Projects</th>\n",
              "      <th>Salary</th>\n",
              "      <th>Tenure</th>\n",
              "      <th>Satisfaction</th>\n",
              "      <th>avg_hrs_month</th>\n",
              "      <th>left</th>\n",
              "    </tr>\n",
              "  </thead>\n",
              "  <tbody>\n",
              "    <tr>\n",
              "      <th>0</th>\n",
              "      <td>30018087</td>\n",
              "      <td>sales</td>\n",
              "      <td>0</td>\n",
              "      <td>0.53</td>\n",
              "      <td>2</td>\n",
              "      <td>low</td>\n",
              "      <td>3</td>\n",
              "      <td>0.38</td>\n",
              "      <td>157</td>\n",
              "      <td>1</td>\n",
              "    </tr>\n",
              "    <tr>\n",
              "      <th>1</th>\n",
              "      <td>30018088</td>\n",
              "      <td>sales</td>\n",
              "      <td>0</td>\n",
              "      <td>0.86</td>\n",
              "      <td>5</td>\n",
              "      <td>medium</td>\n",
              "      <td>6</td>\n",
              "      <td>0.80</td>\n",
              "      <td>262</td>\n",
              "      <td>1</td>\n",
              "    </tr>\n",
              "    <tr>\n",
              "      <th>2</th>\n",
              "      <td>30018089</td>\n",
              "      <td>sales</td>\n",
              "      <td>0</td>\n",
              "      <td>0.88</td>\n",
              "      <td>7</td>\n",
              "      <td>medium</td>\n",
              "      <td>4</td>\n",
              "      <td>0.11</td>\n",
              "      <td>272</td>\n",
              "      <td>1</td>\n",
              "    </tr>\n",
              "    <tr>\n",
              "      <th>3</th>\n",
              "      <td>30018090</td>\n",
              "      <td>sales</td>\n",
              "      <td>0</td>\n",
              "      <td>0.87</td>\n",
              "      <td>5</td>\n",
              "      <td>low</td>\n",
              "      <td>5</td>\n",
              "      <td>0.72</td>\n",
              "      <td>223</td>\n",
              "      <td>1</td>\n",
              "    </tr>\n",
              "    <tr>\n",
              "      <th>4</th>\n",
              "      <td>30018091</td>\n",
              "      <td>sales</td>\n",
              "      <td>0</td>\n",
              "      <td>0.52</td>\n",
              "      <td>2</td>\n",
              "      <td>low</td>\n",
              "      <td>3</td>\n",
              "      <td>0.37</td>\n",
              "      <td>159</td>\n",
              "      <td>1</td>\n",
              "    </tr>\n",
              "  </tbody>\n",
              "</table>\n",
              "</div>\n",
              "    <div class=\"colab-df-buttons\">\n",
              "\n",
              "  <div class=\"colab-df-container\">\n",
              "    <button class=\"colab-df-convert\" onclick=\"convertToInteractive('df-cb87e4f1-4cda-4cce-94b1-a93e734cb258')\"\n",
              "            title=\"Convert this dataframe to an interactive table.\"\n",
              "            style=\"display:none;\">\n",
              "\n",
              "  <svg xmlns=\"http://www.w3.org/2000/svg\" height=\"24px\" viewBox=\"0 -960 960 960\">\n",
              "    <path d=\"M120-120v-720h720v720H120Zm60-500h600v-160H180v160Zm220 220h160v-160H400v160Zm0 220h160v-160H400v160ZM180-400h160v-160H180v160Zm440 0h160v-160H620v160ZM180-180h160v-160H180v160Zm440 0h160v-160H620v160Z\"/>\n",
              "  </svg>\n",
              "    </button>\n",
              "\n",
              "  <style>\n",
              "    .colab-df-container {\n",
              "      display:flex;\n",
              "      gap: 12px;\n",
              "    }\n",
              "\n",
              "    .colab-df-convert {\n",
              "      background-color: #E8F0FE;\n",
              "      border: none;\n",
              "      border-radius: 50%;\n",
              "      cursor: pointer;\n",
              "      display: none;\n",
              "      fill: #1967D2;\n",
              "      height: 32px;\n",
              "      padding: 0 0 0 0;\n",
              "      width: 32px;\n",
              "    }\n",
              "\n",
              "    .colab-df-convert:hover {\n",
              "      background-color: #E2EBFA;\n",
              "      box-shadow: 0px 1px 2px rgba(60, 64, 67, 0.3), 0px 1px 3px 1px rgba(60, 64, 67, 0.15);\n",
              "      fill: #174EA6;\n",
              "    }\n",
              "\n",
              "    .colab-df-buttons div {\n",
              "      margin-bottom: 4px;\n",
              "    }\n",
              "\n",
              "    [theme=dark] .colab-df-convert {\n",
              "      background-color: #3B4455;\n",
              "      fill: #D2E3FC;\n",
              "    }\n",
              "\n",
              "    [theme=dark] .colab-df-convert:hover {\n",
              "      background-color: #434B5C;\n",
              "      box-shadow: 0px 1px 3px 1px rgba(0, 0, 0, 0.15);\n",
              "      filter: drop-shadow(0px 1px 2px rgba(0, 0, 0, 0.3));\n",
              "      fill: #FFFFFF;\n",
              "    }\n",
              "  </style>\n",
              "\n",
              "    <script>\n",
              "      const buttonEl =\n",
              "        document.querySelector('#df-cb87e4f1-4cda-4cce-94b1-a93e734cb258 button.colab-df-convert');\n",
              "      buttonEl.style.display =\n",
              "        google.colab.kernel.accessAllowed ? 'block' : 'none';\n",
              "\n",
              "      async function convertToInteractive(key) {\n",
              "        const element = document.querySelector('#df-cb87e4f1-4cda-4cce-94b1-a93e734cb258');\n",
              "        const dataTable =\n",
              "          await google.colab.kernel.invokeFunction('convertToInteractive',\n",
              "                                                    [key], {});\n",
              "        if (!dataTable) return;\n",
              "\n",
              "        const docLinkHtml = 'Like what you see? Visit the ' +\n",
              "          '<a target=\"_blank\" href=https://colab.research.google.com/notebooks/data_table.ipynb>data table notebook</a>'\n",
              "          + ' to learn more about interactive tables.';\n",
              "        element.innerHTML = '';\n",
              "        dataTable['output_type'] = 'display_data';\n",
              "        await google.colab.output.renderOutput(dataTable, element);\n",
              "        const docLink = document.createElement('div');\n",
              "        docLink.innerHTML = docLinkHtml;\n",
              "        element.appendChild(docLink);\n",
              "      }\n",
              "    </script>\n",
              "  </div>\n",
              "\n",
              "\n",
              "<div id=\"df-3212767e-bc1e-4dac-a355-cac5a5fe9c51\">\n",
              "  <button class=\"colab-df-quickchart\" onclick=\"quickchart('df-3212767e-bc1e-4dac-a355-cac5a5fe9c51')\"\n",
              "            title=\"Suggest charts.\"\n",
              "            style=\"display:none;\">\n",
              "\n",
              "<svg xmlns=\"http://www.w3.org/2000/svg\" height=\"24px\"viewBox=\"0 0 24 24\"\n",
              "     width=\"24px\">\n",
              "    <g>\n",
              "        <path d=\"M19 3H5c-1.1 0-2 .9-2 2v14c0 1.1.9 2 2 2h14c1.1 0 2-.9 2-2V5c0-1.1-.9-2-2-2zM9 17H7v-7h2v7zm4 0h-2V7h2v10zm4 0h-2v-4h2v4z\"/>\n",
              "    </g>\n",
              "</svg>\n",
              "  </button>\n",
              "\n",
              "<style>\n",
              "  .colab-df-quickchart {\n",
              "      --bg-color: #E8F0FE;\n",
              "      --fill-color: #1967D2;\n",
              "      --hover-bg-color: #E2EBFA;\n",
              "      --hover-fill-color: #174EA6;\n",
              "      --disabled-fill-color: #AAA;\n",
              "      --disabled-bg-color: #DDD;\n",
              "  }\n",
              "\n",
              "  [theme=dark] .colab-df-quickchart {\n",
              "      --bg-color: #3B4455;\n",
              "      --fill-color: #D2E3FC;\n",
              "      --hover-bg-color: #434B5C;\n",
              "      --hover-fill-color: #FFFFFF;\n",
              "      --disabled-bg-color: #3B4455;\n",
              "      --disabled-fill-color: #666;\n",
              "  }\n",
              "\n",
              "  .colab-df-quickchart {\n",
              "    background-color: var(--bg-color);\n",
              "    border: none;\n",
              "    border-radius: 50%;\n",
              "    cursor: pointer;\n",
              "    display: none;\n",
              "    fill: var(--fill-color);\n",
              "    height: 32px;\n",
              "    padding: 0;\n",
              "    width: 32px;\n",
              "  }\n",
              "\n",
              "  .colab-df-quickchart:hover {\n",
              "    background-color: var(--hover-bg-color);\n",
              "    box-shadow: 0 1px 2px rgba(60, 64, 67, 0.3), 0 1px 3px 1px rgba(60, 64, 67, 0.15);\n",
              "    fill: var(--button-hover-fill-color);\n",
              "  }\n",
              "\n",
              "  .colab-df-quickchart-complete:disabled,\n",
              "  .colab-df-quickchart-complete:disabled:hover {\n",
              "    background-color: var(--disabled-bg-color);\n",
              "    fill: var(--disabled-fill-color);\n",
              "    box-shadow: none;\n",
              "  }\n",
              "\n",
              "  .colab-df-spinner {\n",
              "    border: 2px solid var(--fill-color);\n",
              "    border-color: transparent;\n",
              "    border-bottom-color: var(--fill-color);\n",
              "    animation:\n",
              "      spin 1s steps(1) infinite;\n",
              "  }\n",
              "\n",
              "  @keyframes spin {\n",
              "    0% {\n",
              "      border-color: transparent;\n",
              "      border-bottom-color: var(--fill-color);\n",
              "      border-left-color: var(--fill-color);\n",
              "    }\n",
              "    20% {\n",
              "      border-color: transparent;\n",
              "      border-left-color: var(--fill-color);\n",
              "      border-top-color: var(--fill-color);\n",
              "    }\n",
              "    30% {\n",
              "      border-color: transparent;\n",
              "      border-left-color: var(--fill-color);\n",
              "      border-top-color: var(--fill-color);\n",
              "      border-right-color: var(--fill-color);\n",
              "    }\n",
              "    40% {\n",
              "      border-color: transparent;\n",
              "      border-right-color: var(--fill-color);\n",
              "      border-top-color: var(--fill-color);\n",
              "    }\n",
              "    60% {\n",
              "      border-color: transparent;\n",
              "      border-right-color: var(--fill-color);\n",
              "    }\n",
              "    80% {\n",
              "      border-color: transparent;\n",
              "      border-right-color: var(--fill-color);\n",
              "      border-bottom-color: var(--fill-color);\n",
              "    }\n",
              "    90% {\n",
              "      border-color: transparent;\n",
              "      border-bottom-color: var(--fill-color);\n",
              "    }\n",
              "  }\n",
              "</style>\n",
              "\n",
              "  <script>\n",
              "    async function quickchart(key) {\n",
              "      const quickchartButtonEl =\n",
              "        document.querySelector('#' + key + ' button');\n",
              "      quickchartButtonEl.disabled = true;  // To prevent multiple clicks.\n",
              "      quickchartButtonEl.classList.add('colab-df-spinner');\n",
              "      try {\n",
              "        const charts = await google.colab.kernel.invokeFunction(\n",
              "            'suggestCharts', [key], {});\n",
              "      } catch (error) {\n",
              "        console.error('Error during call to suggestCharts:', error);\n",
              "      }\n",
              "      quickchartButtonEl.classList.remove('colab-df-spinner');\n",
              "      quickchartButtonEl.classList.add('colab-df-quickchart-complete');\n",
              "    }\n",
              "    (() => {\n",
              "      let quickchartButtonEl =\n",
              "        document.querySelector('#df-3212767e-bc1e-4dac-a355-cac5a5fe9c51 button');\n",
              "      quickchartButtonEl.style.display =\n",
              "        google.colab.kernel.accessAllowed ? 'block' : 'none';\n",
              "    })();\n",
              "  </script>\n",
              "</div>\n",
              "    </div>\n",
              "  </div>\n"
            ]
          },
          "metadata": {},
          "execution_count": 4
        }
      ]
    },
    {
      "cell_type": "markdown",
      "source": [
        "## Data Exploration"
      ],
      "metadata": {
        "id": "sN15j62THakK"
      }
    },
    {
      "cell_type": "markdown",
      "source": [
        "#### How many columns are there in dataset ?"
      ],
      "metadata": {
        "id": "N2T0z36-G8i6"
      }
    },
    {
      "cell_type": "code",
      "source": [
        "df.columns"
      ],
      "metadata": {
        "colab": {
          "base_uri": "https://localhost:8080/"
        },
        "id": "embl9gUfGuUf",
        "outputId": "b48b3da3-7c4c-4e19-a3a0-a2938ebd7f27"
      },
      "execution_count": 5,
      "outputs": [
        {
          "output_type": "execute_result",
          "data": {
            "text/plain": [
              "Index(['Employee ID', 'Departments ', 'Promoted', 'Review', 'Projects',\n",
              "       'Salary', 'Tenure', 'Satisfaction', 'avg_hrs_month', 'left'],\n",
              "      dtype='object')"
            ]
          },
          "metadata": {},
          "execution_count": 5
        }
      ]
    },
    {
      "cell_type": "code",
      "source": [
        "df.info()"
      ],
      "metadata": {
        "colab": {
          "base_uri": "https://localhost:8080/"
        },
        "id": "Ymr6QimIG74c",
        "outputId": "74e615fb-3f87-48a0-bcdd-d7d5ecaa9a26"
      },
      "execution_count": 6,
      "outputs": [
        {
          "output_type": "stream",
          "name": "stdout",
          "text": [
            "<class 'pandas.core.frame.DataFrame'>\n",
            "RangeIndex: 14999 entries, 0 to 14998\n",
            "Data columns (total 10 columns):\n",
            " #   Column         Non-Null Count  Dtype  \n",
            "---  ------         --------------  -----  \n",
            " 0   Employee ID    14999 non-null  int64  \n",
            " 1   Departments    14999 non-null  object \n",
            " 2   Promoted       14999 non-null  int64  \n",
            " 3   Review         14999 non-null  float64\n",
            " 4   Projects       14999 non-null  int64  \n",
            " 5   Salary         14999 non-null  object \n",
            " 6   Tenure         14999 non-null  int64  \n",
            " 7   Satisfaction   14999 non-null  float64\n",
            " 8   avg_hrs_month  14999 non-null  int64  \n",
            " 9   left           14999 non-null  int64  \n",
            "dtypes: float64(2), int64(6), object(2)\n",
            "memory usage: 1.1+ MB\n"
          ]
        }
      ]
    },
    {
      "cell_type": "markdown",
      "source": [
        "#### Is there any ambiguity in the dataset ?"
      ],
      "metadata": {
        "id": "nyRsTcXUHUA-"
      }
    },
    {
      "cell_type": "code",
      "source": [
        "if df['Employee ID'].nunique() == df.shape[0]:\n",
        "  print('All the IDs are unique and NO ambiguity in Employee ID')\n",
        "else:\n",
        "  print('Ambiquity in the dataset')"
      ],
      "metadata": {
        "colab": {
          "base_uri": "https://localhost:8080/"
        },
        "id": "EJuoZH9LHL-p",
        "outputId": "b73b4894-446f-4b13-8004-4ef4bd216609"
      },
      "execution_count": 7,
      "outputs": [
        {
          "output_type": "stream",
          "name": "stdout",
          "text": [
            "All the IDs are unique and NO ambiguity in Employee ID\n"
          ]
        }
      ]
    },
    {
      "cell_type": "code",
      "source": [
        "df['Tenure'].unique()"
      ],
      "metadata": {
        "colab": {
          "base_uri": "https://localhost:8080/"
        },
        "id": "eu_xsVC1H6cA",
        "outputId": "10f434b4-33d0-42fd-fb60-20268579bb4f"
      },
      "execution_count": 9,
      "outputs": [
        {
          "output_type": "execute_result",
          "data": {
            "text/plain": [
              "array([ 3,  6,  4,  5,  2,  8, 10,  7])"
            ]
          },
          "metadata": {},
          "execution_count": 9
        }
      ]
    },
    {
      "cell_type": "code",
      "source": [
        "df['Departments '].unique()"
      ],
      "metadata": {
        "colab": {
          "base_uri": "https://localhost:8080/"
        },
        "id": "uTn7m4cGIE6L",
        "outputId": "1e07c781-fecd-47d5-d7c4-1db72ae69041"
      },
      "execution_count": 12,
      "outputs": [
        {
          "output_type": "execute_result",
          "data": {
            "text/plain": [
              "array(['sales', 'accounting', 'hr', 'technical', 'support', 'management',\n",
              "       'IT', 'product_mng', 'marketing', 'RandD'], dtype=object)"
            ]
          },
          "metadata": {},
          "execution_count": 12
        }
      ]
    },
    {
      "cell_type": "code",
      "source": [
        "df['Projects'].unique()"
      ],
      "metadata": {
        "colab": {
          "base_uri": "https://localhost:8080/"
        },
        "id": "V7WyRJaAIn-p",
        "outputId": "461e4eab-7cda-4c26-dbef-859d285cc33f"
      },
      "execution_count": 13,
      "outputs": [
        {
          "output_type": "execute_result",
          "data": {
            "text/plain": [
              "array([2, 5, 7, 6, 4, 3])"
            ]
          },
          "metadata": {},
          "execution_count": 13
        }
      ]
    },
    {
      "cell_type": "code",
      "source": [
        "print(df['avg_hrs_month'].unique())\n",
        "print('There are {} unique values in the dataset'.format(df['avg_hrs_month'].nunique()))"
      ],
      "metadata": {
        "colab": {
          "base_uri": "https://localhost:8080/"
        },
        "id": "hBjBlEq1I0kV",
        "outputId": "0946989f-ee5a-4dae-b62e-d52c4a142a40"
      },
      "execution_count": 18,
      "outputs": [
        {
          "output_type": "stream",
          "name": "stdout",
          "text": [
            "[157 262 272 223 159 153 247 259 224 142 135 305 234 148 137 143 160 255\n",
            " 282 147 304 139 158 242 239 128 132 294 134 145 140 246 126 306 152 269\n",
            " 127 281 276 182 273 307 309 225 226 308 244 286 161 264 277 275 149 295\n",
            " 151 249 291 232 130 129 155 265 279 284 221 154 150 267 257 177 144 289\n",
            " 258 263 251 133 216 300 138 260 183 250 292 283 245 256 278 240 136 301\n",
            " 243 296 274 164 146 261 285 141 297 156 287 219 254 228 131 252 236 270\n",
            " 298 192 248 266 238 229 233 268 231 253 302 271 290 235 293 241 218 199\n",
            " 180 195 237 227 172 206 181 217 310 214 198 211 222 213 202 184 204 288\n",
            " 220 299 303 212 196 179 205 230 203 280 169 188 178 175 166 163 168 165\n",
            " 189 162 215 193 176 191 174 201 208 171 111 104 106 100 194 209 185 200\n",
            " 207 187 210 186 167 108 122 110 115 197 102 109 190  99 101  97 173 121\n",
            " 170 105 118 119 117 114  96  98 107 123 116 125 113 120 112 124 103]\n",
            "There are 215 unique values in the dataset\n"
          ]
        }
      ]
    },
    {
      "cell_type": "markdown",
      "source": [
        "\n",
        "\n",
        "*   Review and satisfication have continuous values.\n",
        "*   Department, Tenure, Project and avg hrs of work monthly has its Nominal Values, and there is no ambiguity in the columns\n",
        "\n"
      ],
      "metadata": {
        "id": "tK-vMvIyJdHW"
      }
    },
    {
      "cell_type": "markdown",
      "source": [
        "## Separate Feature Analysis"
      ],
      "metadata": {
        "id": "1KJTLVUhKMfz"
      }
    },
    {
      "cell_type": "markdown",
      "source": [
        "#### Department"
      ],
      "metadata": {
        "id": "KR56osnBKVVR"
      }
    },
    {
      "cell_type": "code",
      "source": [
        "x = list(df['Departments '].unique())\n",
        "y = df.shape[0]\n",
        "for depart in x:\n",
        "    num = df['Departments '][df['Departments '] == depart].value_counts()\n",
        "    print('The \"{}\" department has {}% employees'.format(depart, float(num/y)*100))"
      ],
      "metadata": {
        "colab": {
          "base_uri": "https://localhost:8080/"
        },
        "id": "tJ10hM8BJAfc",
        "outputId": "4cd3205a-3519-4980-e974-c8dcbb5618c2"
      },
      "execution_count": 30,
      "outputs": [
        {
          "output_type": "stream",
          "name": "stdout",
          "text": [
            "The \"sales\" department has 27.601840122674844% employees\n",
            "The \"accounting\" department has 5.113674244949664% employees\n",
            "The \"hr\" department has 4.926995133008867% employees\n",
            "The \"technical\" department has 18.13454230282019% employees\n",
            "The \"support\" department has 14.860990732715514% employees\n",
            "The \"management\" department has 4.200280018667911% employees\n",
            "The \"IT\" department has 8.180545369691313% employees\n",
            "The \"product_mng\" department has 6.0137342489499295% employees\n",
            "The \"marketing\" department has 5.72038135875725% employees\n",
            "The \"RandD\" department has 5.247016467764517% employees\n"
          ]
        }
      ]
    },
    {
      "cell_type": "code",
      "source": [
        "def with_hue(ax, feature, Number_of_categories, hue_categories):\n",
        "    a = [p.get_height() for p in ax.patches]\n",
        "    patch = [p for p in ax.patches]\n",
        "    for i in range(Number_of_categories):\n",
        "        total = feature.value_counts().values[i]\n",
        "        for j in range(hue_categories):\n",
        "            percentage = '{:.1f}%'.format(100 * a[(j*Number_of_categories + i)]/total)\n",
        "            x = patch[(j*Number_of_categories + i)].get_x() + patch[(j*Number_of_categories + i)].get_width() / 2\n",
        "            y = patch[(j*Number_of_categories + i)].get_y() + patch[(j*Number_of_categories + i)].get_height()\n",
        "            ax.annotate(percentage, (x, y), size = 12)\n",
        "\n",
        "def without_hue(ax, feature):\n",
        "    total = len(feature)\n",
        "    for p in ax.patches:\n",
        "        percentage = '{:.1f}%'.format(100 * p.get_height()/total)\n",
        "        x = p.get_x() + p.get_width() / 2\n",
        "        y = p.get_y() + p.get_height()\n",
        "        ax.annotate(percentage, (x, y), size = 12)\n",
        "\n",
        "# plotring the graph\n",
        "plt.figure(figsize=(10,3))\n",
        "ax4 = sns.countplot( x= 'Departments ', data = df)\n",
        "without_hue(ax4, df['Departments '] )"
      ],
      "metadata": {
        "colab": {
          "base_uri": "https://localhost:8080/",
          "height": 314
        },
        "id": "DLBOWVTYLEjO",
        "outputId": "ab172fe2-7682-44e5-a9b6-9f15fb1eb5c2"
      },
      "execution_count": 40,
      "outputs": [
        {
          "output_type": "display_data",
          "data": {
            "text/plain": [
              "<Figure size 1000x300 with 1 Axes>"
            ],
            "image/png": "[encoded data removed]"
          },
          "metadata": {}
        }
      ]
    },
    {
      "cell_type": "code",
      "source": [
        "department_counts = df.groupby(['Departments ', 'left'])['left'].count().unstack().fillna(0)\n",
        "\n",
        "department_counts.plot(kind='bar', stacked=True, figsize=(10, 3))\n",
        "plt.title('Stacked Bar Graph of Employees Leaving by Department')\n",
        "plt.xlabel('Departments ')\n",
        "plt.ylabel('Count')\n",
        "plt.legend(title='Left', labels=['Not Left', 'Left'])\n",
        "plt.show()"
      ],
      "metadata": {
        "colab": {
          "base_uri": "https://localhost:8080/",
          "height": 412
        },
        "id": "QfrcsMvKM-PU",
        "outputId": "f5976ecf-58e6-4a6c-ef66-74e3f8f76d50"
      },
      "execution_count": 73,
      "outputs": [
        {
          "output_type": "display_data",
          "data": {
            "text/plain": [
              "<Figure size 1000x300 with 1 Axes>"
            ],
            "image/png": "[encoded data removed]"
          },
          "metadata": {}
        }
      ]
    },
    {
      "cell_type": "code",
      "source": [
        "department_counts"
      ],
      "metadata": {
        "colab": {
          "base_uri": "https://localhost:8080/",
          "height": 394
        },
        "id": "ZXqO7U_cSIZa",
        "outputId": "37eae416-abda-4db1-dabe-3ceb9b924ad7"
      },
      "execution_count": 63,
      "outputs": [
        {
          "output_type": "execute_result",
          "data": {
            "text/plain": [
              "left             0     1\n",
              "Departments             \n",
              "IT             954   273\n",
              "RandD          666   121\n",
              "accounting     563   204\n",
              "hr             524   215\n",
              "management     539    91\n",
              "marketing      655   203\n",
              "product_mng    704   198\n",
              "sales         3126  1014\n",
              "support       1674   555\n",
              "technical     2023   697"
            ],
            "text/html": [
              "\n",
              "  <div id=\"df-3c6414c6-d768-44cf-8f15-2b78a3eb1269\" class=\"colab-df-container\">\n",
              "    <div>\n",
              "<style scoped>\n",
              "    .dataframe tbody tr th:only-of-type {\n",
              "        vertical-align: middle;\n",
              "    }\n",
              "\n",
              "    .dataframe tbody tr th {\n",
              "        vertical-align: top;\n",
              "    }\n",
              "\n",
              "    .dataframe thead th {\n",
              "        text-align: right;\n",
              "    }\n",
              "</style>\n",
              "<table border=\"1\" class=\"dataframe\">\n",
              "  <thead>\n",
              "    <tr style=\"text-align: right;\">\n",
              "      <th>left</th>\n",
              "      <th>0</th>\n",
              "      <th>1</th>\n",
              "    </tr>\n",
              "    <tr>\n",
              "      <th>Departments</th>\n",
              "      <th></th>\n",
              "      <th></th>\n",
              "    </tr>\n",
              "  </thead>\n",
              "  <tbody>\n",
              "    <tr>\n",
              "      <th>IT</th>\n",
              "      <td>954</td>\n",
              "      <td>273</td>\n",
              "    </tr>\n",
              "    <tr>\n",
              "      <th>RandD</th>\n",
              "      <td>666</td>\n",
              "      <td>121</td>\n",
              "    </tr>\n",
              "    <tr>\n",
              "      <th>accounting</th>\n",
              "      <td>563</td>\n",
              "      <td>204</td>\n",
              "    </tr>\n",
              "    <tr>\n",
              "      <th>hr</th>\n",
              "      <td>524</td>\n",
              "      <td>215</td>\n",
              "    </tr>\n",
              "    <tr>\n",
              "      <th>management</th>\n",
              "      <td>539</td>\n",
              "      <td>91</td>\n",
              "    </tr>\n",
              "    <tr>\n",
              "      <th>marketing</th>\n",
              "      <td>655</td>\n",
              "      <td>203</td>\n",
              "    </tr>\n",
              "    <tr>\n",
              "      <th>product_mng</th>\n",
              "      <td>704</td>\n",
              "      <td>198</td>\n",
              "    </tr>\n",
              "    <tr>\n",
              "      <th>sales</th>\n",
              "      <td>3126</td>\n",
              "      <td>1014</td>\n",
              "    </tr>\n",
              "    <tr>\n",
              "      <th>support</th>\n",
              "      <td>1674</td>\n",
              "      <td>555</td>\n",
              "    </tr>\n",
              "    <tr>\n",
              "      <th>technical</th>\n",
              "      <td>2023</td>\n",
              "      <td>697</td>\n",
              "    </tr>\n",
              "  </tbody>\n",
              "</table>\n",
              "</div>\n",
              "    <div class=\"colab-df-buttons\">\n",
              "\n",
              "  <div class=\"colab-df-container\">\n",
              "    <button class=\"colab-df-convert\" onclick=\"convertToInteractive('df-3c6414c6-d768-44cf-8f15-2b78a3eb1269')\"\n",
              "            title=\"Convert this dataframe to an interactive table.\"\n",
              "            style=\"display:none;\">\n",
              "\n",
              "  <svg xmlns=\"http://www.w3.org/2000/svg\" height=\"24px\" viewBox=\"0 -960 960 960\">\n",
              "    <path d=\"M120-120v-720h720v720H120Zm60-500h600v-160H180v160Zm220 220h160v-160H400v160Zm0 220h160v-160H400v160ZM180-400h160v-160H180v160Zm440 0h160v-160H620v160ZM180-180h160v-160H180v160Zm440 0h160v-160H620v160Z\"/>\n",
              "  </svg>\n",
              "    </button>\n",
              "\n",
              "  <style>\n",
              "    .colab-df-container {\n",
              "      display:flex;\n",
              "      gap: 12px;\n",
              "    }\n",
              "\n",
              "    .colab-df-convert {\n",
              "      background-color: #E8F0FE;\n",
              "      border: none;\n",
              "      border-radius: 50%;\n",
              "      cursor: pointer;\n",
              "      display: none;\n",
              "      fill: #1967D2;\n",
              "      height: 32px;\n",
              "      padding: 0 0 0 0;\n",
              "      width: 32px;\n",
              "    }\n",
              "\n",
              "    .colab-df-convert:hover {\n",
              "      background-color: #E2EBFA;\n",
              "      box-shadow: 0px 1px 2px rgba(60, 64, 67, 0.3), 0px 1px 3px 1px rgba(60, 64, 67, 0.15);\n",
              "      fill: #174EA6;\n",
              "    }\n",
              "\n",
              "    .colab-df-buttons div {\n",
              "      margin-bottom: 4px;\n",
              "    }\n",
              "\n",
              "    [theme=dark] .colab-df-convert {\n",
              "      background-color: #3B4455;\n",
              "      fill: #D2E3FC;\n",
              "    }\n",
              "\n",
              "    [theme=dark] .colab-df-convert:hover {\n",
              "      background-color: #434B5C;\n",
              "      box-shadow: 0px 1px 3px 1px rgba(0, 0, 0, 0.15);\n",
              "      filter: drop-shadow(0px 1px 2px rgba(0, 0, 0, 0.3));\n",
              "      fill: #FFFFFF;\n",
              "    }\n",
              "  </style>\n",
              "\n",
              "    <script>\n",
              "      const buttonEl =\n",
              "        document.querySelector('#df-3c6414c6-d768-44cf-8f15-2b78a3eb1269 button.colab-df-convert');\n",
              "      buttonEl.style.display =\n",
              "        google.colab.kernel.accessAllowed ? 'block' : 'none';\n",
              "\n",
              "      async function convertToInteractive(key) {\n",
              "        const element = document.querySelector('#df-3c6414c6-d768-44cf-8f15-2b78a3eb1269');\n",
              "        const dataTable =\n",
              "          await google.colab.kernel.invokeFunction('convertToInteractive',\n",
              "                                                    [key], {});\n",
              "        if (!dataTable) return;\n",
              "\n",
              "        const docLinkHtml = 'Like what you see? Visit the ' +\n",
              "          '<a target=\"_blank\" href=https://colab.research.google.com/notebooks/data_table.ipynb>data table notebook</a>'\n",
              "          + ' to learn more about interactive tables.';\n",
              "        element.innerHTML = '';\n",
              "        dataTable['output_type'] = 'display_data';\n",
              "        await google.colab.output.renderOutput(dataTable, element);\n",
              "        const docLink = document.createElement('div');\n",
              "        docLink.innerHTML = docLinkHtml;\n",
              "        element.appendChild(docLink);\n",
              "      }\n",
              "    </script>\n",
              "  </div>\n",
              "\n",
              "\n",
              "<div id=\"df-ee595c84-b9a1-460e-b88e-701434844627\">\n",
              "  <button class=\"colab-df-quickchart\" onclick=\"quickchart('df-ee595c84-b9a1-460e-b88e-701434844627')\"\n",
              "            title=\"Suggest charts.\"\n",
              "            style=\"display:none;\">\n",
              "\n",
              "<svg xmlns=\"http://www.w3.org/2000/svg\" height=\"24px\"viewBox=\"0 0 24 24\"\n",
              "     width=\"24px\">\n",
              "    <g>\n",
              "        <path d=\"M19 3H5c-1.1 0-2 .9-2 2v14c0 1.1.9 2 2 2h14c1.1 0 2-.9 2-2V5c0-1.1-.9-2-2-2zM9 17H7v-7h2v7zm4 0h-2V7h2v10zm4 0h-2v-4h2v4z\"/>\n",
              "    </g>\n",
              "</svg>\n",
              "  </button>\n",
              "\n",
              "<style>\n",
              "  .colab-df-quickchart {\n",
              "      --bg-color: #E8F0FE;\n",
              "      --fill-color: #1967D2;\n",
              "      --hover-bg-color: #E2EBFA;\n",
              "      --hover-fill-color: #174EA6;\n",
              "      --disabled-fill-color: #AAA;\n",
              "      --disabled-bg-color: #DDD;\n",
              "  }\n",
              "\n",
              "  [theme=dark] .colab-df-quickchart {\n",
              "      --bg-color: #3B4455;\n",
              "      --fill-color: #D2E3FC;\n",
              "      --hover-bg-color: #434B5C;\n",
              "      --hover-fill-color: #FFFFFF;\n",
              "      --disabled-bg-color: #3B4455;\n",
              "      --disabled-fill-color: #666;\n",
              "  }\n",
              "\n",
              "  .colab-df-quickchart {\n",
              "    background-color: var(--bg-color);\n",
              "    border: none;\n",
              "    border-radius: 50%;\n",
              "    cursor: pointer;\n",
              "    display: none;\n",
              "    fill: var(--fill-color);\n",
              "    height: 32px;\n",
              "    padding: 0;\n",
              "    width: 32px;\n",
              "  }\n",
              "\n",
              "  .colab-df-quickchart:hover {\n",
              "    background-color: var(--hover-bg-color);\n",
              "    box-shadow: 0 1px 2px rgba(60, 64, 67, 0.3), 0 1px 3px 1px rgba(60, 64, 67, 0.15);\n",
              "    fill: var(--button-hover-fill-color);\n",
              "  }\n",
              "\n",
              "  .colab-df-quickchart-complete:disabled,\n",
              "  .colab-df-quickchart-complete:disabled:hover {\n",
              "    background-color: var(--disabled-bg-color);\n",
              "    fill: var(--disabled-fill-color);\n",
              "    box-shadow: none;\n",
              "  }\n",
              "\n",
              "  .colab-df-spinner {\n",
              "    border: 2px solid var(--fill-color);\n",
              "    border-color: transparent;\n",
              "    border-bottom-color: var(--fill-color);\n",
              "    animation:\n",
              "      spin 1s steps(1) infinite;\n",
              "  }\n",
              "\n",
              "  @keyframes spin {\n",
              "    0% {\n",
              "      border-color: transparent;\n",
              "      border-bottom-color: var(--fill-color);\n",
              "      border-left-color: var(--fill-color);\n",
              "    }\n",
              "    20% {\n",
              "      border-color: transparent;\n",
              "      border-left-color: var(--fill-color);\n",
              "      border-top-color: var(--fill-color);\n",
              "    }\n",
              "    30% {\n",
              "      border-color: transparent;\n",
              "      border-left-color: var(--fill-color);\n",
              "      border-top-color: var(--fill-color);\n",
              "      border-right-color: var(--fill-color);\n",
              "    }\n",
              "    40% {\n",
              "      border-color: transparent;\n",
              "      border-right-color: var(--fill-color);\n",
              "      border-top-color: var(--fill-color);\n",
              "    }\n",
              "    60% {\n",
              "      border-color: transparent;\n",
              "      border-right-color: var(--fill-color);\n",
              "    }\n",
              "    80% {\n",
              "      border-color: transparent;\n",
              "      border-right-color: var(--fill-color);\n",
              "      border-bottom-color: var(--fill-color);\n",
              "    }\n",
              "    90% {\n",
              "      border-color: transparent;\n",
              "      border-bottom-color: var(--fill-color);\n",
              "    }\n",
              "  }\n",
              "</style>\n",
              "\n",
              "  <script>\n",
              "    async function quickchart(key) {\n",
              "      const quickchartButtonEl =\n",
              "        document.querySelector('#' + key + ' button');\n",
              "      quickchartButtonEl.disabled = true;  // To prevent multiple clicks.\n",
              "      quickchartButtonEl.classList.add('colab-df-spinner');\n",
              "      try {\n",
              "        const charts = await google.colab.kernel.invokeFunction(\n",
              "            'suggestCharts', [key], {});\n",
              "      } catch (error) {\n",
              "        console.error('Error during call to suggestCharts:', error);\n",
              "      }\n",
              "      quickchartButtonEl.classList.remove('colab-df-spinner');\n",
              "      quickchartButtonEl.classList.add('colab-df-quickchart-complete');\n",
              "    }\n",
              "    (() => {\n",
              "      let quickchartButtonEl =\n",
              "        document.querySelector('#df-ee595c84-b9a1-460e-b88e-701434844627 button');\n",
              "      quickchartButtonEl.style.display =\n",
              "        google.colab.kernel.accessAllowed ? 'block' : 'none';\n",
              "    })();\n",
              "  </script>\n",
              "</div>\n",
              "    </div>\n",
              "  </div>\n"
            ]
          },
          "metadata": {},
          "execution_count": 63
        }
      ]
    },
    {
      "cell_type": "code",
      "source": [
        "depart = list(department_counts.index)\n",
        "for i in range(10):\n",
        "    x = department_counts.iloc[i, 0]\n",
        "    y = department_counts.iloc[i, 1]\n",
        "    print(depart[i])\n",
        "    print('{}% - retained || {}% - left'.format(float(x/(x+y))*100, float(y/(x+y))*100))\n",
        "    print()"
      ],
      "metadata": {
        "colab": {
          "base_uri": "https://localhost:8080/"
        },
        "id": "HTKM0VrmRaya",
        "outputId": "a9f1ea04-c363-4987-b041-cf3be9dd6592"
      },
      "execution_count": 71,
      "outputs": [
        {
          "output_type": "stream",
          "name": "stdout",
          "text": [
            "IT\n",
            "77.75061124694376% - retained || 22.249388753056234% - left\n",
            "\n",
            "RandD\n",
            "84.62515883100382% - retained || 15.374841168996186% - left\n",
            "\n",
            "accounting\n",
            "73.40286831812256% - retained || 26.597131681877446% - left\n",
            "\n",
            "hr\n",
            "70.90663058186739% - retained || 29.093369418132614% - left\n",
            "\n",
            "management\n",
            "85.55555555555556% - retained || 14.444444444444443% - left\n",
            "\n",
            "marketing\n",
            "76.34032634032634% - retained || 23.65967365967366% - left\n",
            "\n",
            "product_mng\n",
            "78.04878048780488% - retained || 21.951219512195124% - left\n",
            "\n",
            "sales\n",
            "75.5072463768116% - retained || 24.492753623188406% - left\n",
            "\n",
            "support\n",
            "75.10094212651414% - retained || 24.89905787348587% - left\n",
            "\n",
            "technical\n",
            "74.375% - retained || 25.624999999999996% - left\n",
            "\n"
          ]
        }
      ]
    },
    {
      "cell_type": "markdown",
      "source": [
        "Except RandD and management, all have t he attrition percentage of greated than 20%"
      ],
      "metadata": {
        "id": "42CMY8NlTuVN"
      }
    },
    {
      "cell_type": "code",
      "source": [
        "department_counts = df.groupby(['Departments ', 'Promoted'])['Promoted'].count().unstack()\n",
        "\n",
        "department_counts.plot(kind='bar', stacked=True, figsize=(10, 3))\n",
        "plt.title('Stacked Bar Graph of Employees Leaving by Department')\n",
        "plt.xlabel('Departments ')\n",
        "plt.ylabel('Count')\n",
        "plt.legend(title='Left', labels=['Not Left', 'Left'])\n",
        "plt.show()"
      ],
      "metadata": {
        "colab": {
          "base_uri": "https://localhost:8080/",
          "height": 412
        },
        "id": "29D2pp89OOyh",
        "outputId": "dabcfe2c-863a-4863-e35c-f9f40fac60c5"
      },
      "execution_count": 75,
      "outputs": [
        {
          "output_type": "display_data",
          "data": {
            "text/plain": [
              "<Figure size 1000x300 with 1 Axes>"
            ],
            "image/png": "[encoded data removed]"
          },
          "metadata": {}
        }
      ]
    },
    {
      "cell_type": "markdown",
      "source": [
        "It is clear that a very small number of total branch size is promoted."
      ],
      "metadata": {
        "id": "1X5Cbv9YoQIN"
      }
    },
    {
      "cell_type": "markdown",
      "source": [
        "#### Salary"
      ],
      "metadata": {
        "id": "nXHd_h1Rp8-I"
      }
    },
    {
      "cell_type": "code",
      "source": [
        "x = list(df['Salary'].unique())\n",
        "y = df.shape[0]\n",
        "for range in x:\n",
        "    num = df['Salary'][df['Salary'] == range].value_counts()\n",
        "    print('The \"{}\" department has {}% employees'.format(range, float(num/y)*100))"
      ],
      "metadata": {
        "colab": {
          "base_uri": "https://localhost:8080/"
        },
        "id": "72o0i37Jpcea",
        "outputId": "44336e94-8f58-4b3e-fbb2-1a77d568c288"
      },
      "execution_count": 80,
      "outputs": [
        {
          "output_type": "stream",
          "name": "stdout",
          "text": [
            "The \"low\" department has 48.77658510567372% employees\n",
            "The \"medium\" department has 42.97619841322755% employees\n",
            "The \"high\" department has 8.24721648109874% employees\n"
          ]
        }
      ]
    },
    {
      "cell_type": "code",
      "source": [
        "plt.figure(figsize=(10,3))\n",
        "ax4 = sns.countplot( x= 'Salary', data = df)\n",
        "without_hue(ax4, df['Salary'] )"
      ],
      "metadata": {
        "colab": {
          "base_uri": "https://localhost:8080/",
          "height": 314
        },
        "id": "8AOTNUUbqbyx",
        "outputId": "d6f04edb-4ab5-423e-e850-5f35378c6204"
      },
      "execution_count": 81,
      "outputs": [
        {
          "output_type": "display_data",
          "data": {
            "text/plain": [
              "<Figure size 1000x300 with 1 Axes>"
            ],
            "image/png": "[encoded data removed]"
          },
          "metadata": {}
        }
      ]
    },
    {
      "cell_type": "markdown",
      "source": [
        "Company has large number of Low Salaried Employee"
      ],
      "metadata": {
        "id": "TEVq4QXWrXsr"
      }
    },
    {
      "cell_type": "code",
      "source": [
        "salary_counts = df.groupby(['Salary', 'left'])['left'].count().unstack().fillna(0)\n",
        "\n",
        "salary_counts.plot(kind='bar', stacked=True, figsize=(10, 3))\n",
        "plt.title('Stacked Bar Graph of Employees Leaving by Different range of Salaries')\n",
        "plt.xlabel('Salary')\n",
        "plt.ylabel('Count')\n",
        "plt.legend(title='Left', labels=['Not Left', 'Left'])\n",
        "plt.show()"
      ],
      "metadata": {
        "colab": {
          "base_uri": "https://localhost:8080/",
          "height": 376
        },
        "id": "UK2cqbl0qmTn",
        "outputId": "d0eff6d9-c74e-49d2-daea-4e3dc8087437"
      },
      "execution_count": 84,
      "outputs": [
        {
          "output_type": "display_data",
          "data": {
            "text/plain": [
              "<Figure size 1000x300 with 1 Axes>"
            ],
            "image/png": "[encoded data removed]"
          },
          "metadata": {}
        }
      ]
    },
    {
      "cell_type": "markdown",
      "source": [
        "It is obvious from the plot : Large Number of Low Salaried Employee Leaving the Company. The Attrition rate of high salaried employee is very low."
      ],
      "metadata": {
        "id": "3lunBqgFrHkc"
      }
    },
    {
      "cell_type": "code",
      "source": [
        "salary_work_hrs_sum = df.groupby(['Salary'])['avg_hrs_month'].sum()\n",
        "salary_wise_count = df.groupby(['Salary'])['avg_hrs_month'].count()\n",
        "per_person_work = [float(salary_work_hrs_sum[0]/salary_wise_count[0]), float(salary_work_hrs_sum[1]/salary_wise_count[1]), float(salary_work_hrs_sum[2]/salary_wise_count[2])]\n",
        "salary_cat = ['high', 'low', 'medium']\n",
        "plt.figure(figsize=(10,3))\n",
        "sns.barplot(x = salary_cat, y = per_person_work)\n",
        "plt.show()"
      ],
      "metadata": {
        "colab": {
          "base_uri": "https://localhost:8080/",
          "height": 291
        },
        "id": "UT8nMK0rq2fU",
        "outputId": "3e8061f0-c4a4-4ec7-e484-68d2e7da684b"
      },
      "execution_count": 94,
      "outputs": [
        {
          "output_type": "display_data",
          "data": {
            "text/plain": [
              "<Figure size 1000x300 with 1 Axes>"
            ],
            "image/png": "[encoded data removed]"
          },
          "metadata": {}
        }
      ]
    },
    {
      "cell_type": "markdown",
      "source": [
        "Hence, Work hour per person in each group is almost same."
      ],
      "metadata": {
        "id": "vXbzfoR3t57Y"
      }
    },
    {
      "cell_type": "code",
      "source": [],
      "metadata": {
        "id": "cRdUOyxlrq2Y"
      },
      "execution_count": null,
      "outputs": []
    }
  ]
}